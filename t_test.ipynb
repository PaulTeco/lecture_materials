{
 "cells": [
  {
   "cell_type": "code",
   "execution_count": null,
   "metadata": {},
   "outputs": [],
   "source": [
    "import numpy as np\n",
    "from scipy import stats\n",
    "import matplotlib.pyplot as plt\n",
    "import time"
   ]
  },
  {
   "attachments": {},
   "cell_type": "markdown",
   "metadata": {},
   "source": [
    "# Define Functions"
   ]
  },
  {
   "cell_type": "code",
   "execution_count": null,
   "metadata": {},
   "outputs": [],
   "source": [
    "def for_loop(n: int) -> list:\n",
    "    a = []\n",
    "    for i in range(n):\n",
    "        a.append(i)\n",
    "    return a\n",
    "\n",
    "def list_comprehension(n: int) -> list:\n",
    "    return [i for i in range(n)]"
   ]
  },
  {
   "attachments": {},
   "cell_type": "markdown",
   "metadata": {},
   "source": [
    "# Run Functions n times to gather performance data"
   ]
  },
  {
   "cell_type": "code",
   "execution_count": null,
   "metadata": {},
   "outputs": [],
   "source": [
    "for_loop_times = []\n",
    "\n",
    "for _ in range(100):\n",
    "\n",
    "    start = time.perf_counter()\n",
    "\n",
    "    for_loop(100_000)\n",
    "\n",
    "    end = time.perf_counter()\n",
    "\n",
    "    for_loop_times.append(end-start)\n"
   ]
  },
  {
   "cell_type": "code",
   "execution_count": null,
   "metadata": {},
   "outputs": [],
   "source": [
    "list_comprehension_times = []\n",
    "\n",
    "for _ in range(100):\n",
    "\n",
    "    start = time.perf_counter()\n",
    "\n",
    "    list_comprehension(100_000)\n",
    "\n",
    "    end = time.perf_counter()\n",
    "\n",
    "    list_comprehension_times.append(end-start)"
   ]
  },
  {
   "attachments": {},
   "cell_type": "markdown",
   "metadata": {},
   "source": [
    "# Define t-Test and run it"
   ]
  },
  {
   "cell_type": "code",
   "execution_count": null,
   "metadata": {},
   "outputs": [],
   "source": [
    "def t_test(sample1: np.array, sample2: np.array) -> float:\n",
    "\n",
    "    # get means of the two samples\n",
    "    mean1 = np.mean(sample1)\n",
    "    mean2 = np.mean(sample2)\n",
    "\n",
    "    # get number of elements in the two samples\n",
    "    n1 = len(sample1)\n",
    "    n2 = len(sample2)\n",
    "\n",
    "    # get standard deviation of the two samples\n",
    "    std1 = np.std(sample1)\n",
    "    std2 = np.std(sample2)\n",
    "\n",
    "    # calculate the term for the denominator\n",
    "    std12 = np.sqrt( ((n1-1)*std1**2 + (n2-1)*std2**2) / (n1 + n2 - 2)  )\n",
    "\n",
    "    # calculate t value\n",
    "    t = (mean1 - mean2) / (std12 * np.sqrt(1/n1 + 1/n2))\n",
    "\n",
    "    return t"
   ]
  },
  {
   "cell_type": "code",
   "execution_count": null,
   "metadata": {},
   "outputs": [],
   "source": [
    "t_value = t_test(for_loop_times, list_comprehension_times)\n",
    "print(f\"t = {t_value:.3f}\")\n",
    "\n",
    "print(f\"(Check: Scipy says: t = {stats.ttest_ind(for_loop_times, list_comprehension_times).statistic:.3f})\")"
   ]
  },
  {
   "attachments": {},
   "cell_type": "markdown",
   "metadata": {},
   "source": [
    "# Generate t-distribution from H0 and check alpha value"
   ]
  },
  {
   "cell_type": "code",
   "execution_count": null,
   "metadata": {},
   "outputs": [],
   "source": [
    "plt.figure(figsize=(12,7))\n",
    "\n",
    "# generate random values for mu, std for H0\n",
    "random_mu = (np.random.random()-0.5)*2  # random float between -1 and 1\n",
    "random_std = (np.random.random())*10  # random float between 0 and 1\n",
    "\n",
    "# generate two samples from the SAME (mu, std) normal distribution\n",
    "a, b = np.random.normal(loc=random_mu, scale=random_std, size=(2, 1_000_000)) / (np.sqrt(2) * random_std)\n",
    "\n",
    "# get the threshold value (t value) from the difference of the distributions where 5% of all points lie outside\n",
    "alpha_t = np.abs(np.percentile(a-b, 2.5))\n",
    "\n",
    "# print the t value and whether or not to the above experiment is within these bounds (= result agrees with H0 = no effect)\n",
    "print(f\"alpha value: {alpha_t:.3f}\")\n",
    "print(f\"Discard H0: {np.abs(t_value) > np.abs(alpha_t)}\")\n",
    "\n",
    "\n",
    "# plot the pointwise DIFFERENCE of those two samples in blue\n",
    "plt.hist(a-b, bins=200, alpha=0.5, color=\"blue\", density=True)\n",
    "\n",
    "# for comparison: draw a sample from a t distribution in red\n",
    "plt.hist(np.random.standard_t(df=198, size=1_000_000), bins=200, alpha=0.5, color=\"red\", density=True)\n",
    "\n",
    "# add the t value as vertical lines\n",
    "plt.axvline(-alpha_t, linestyle=\"dashed\", color=\"black\")\n",
    "plt.axvline(alpha_t, linestyle=\"dashed\", color=\"black\")"
   ]
  },
  {
   "cell_type": "code",
   "execution_count": null,
   "metadata": {},
   "outputs": [],
   "source": []
  }
 ],
 "metadata": {
  "kernelspec": {
   "display_name": "celluloid",
   "language": "python",
   "name": "python3"
  },
  "language_info": {
   "codemirror_mode": {
    "name": "ipython",
    "version": 3
   },
   "file_extension": ".py",
   "mimetype": "text/x-python",
   "name": "python",
   "nbconvert_exporter": "python",
   "pygments_lexer": "ipython3",
   "version": "3.9.18"
  },
  "orig_nbformat": 4
 },
 "nbformat": 4,
 "nbformat_minor": 2
}
