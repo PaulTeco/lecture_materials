{
 "cells": [
  {
   "cell_type": "code",
   "execution_count": 15,
   "metadata": {},
   "outputs": [],
   "source": [
    "import numpy as np\n",
    "from scipy import stats\n",
    "import matplotlib.pyplot as plt\n",
    "import time"
   ]
  },
  {
   "attachments": {},
   "cell_type": "markdown",
   "metadata": {},
   "source": [
    "# Define Functions"
   ]
  },
  {
   "cell_type": "code",
   "execution_count": 16,
   "metadata": {},
   "outputs": [],
   "source": [
    "def for_loop(n: int) -> list:\n",
    "    a = []\n",
    "    for i in range(n):\n",
    "        a.append(i)\n",
    "    return a\n",
    "\n",
    "def list_comprehension(n: int) -> list:\n",
    "    return [i for i in range(n)]"
   ]
  },
  {
   "attachments": {},
   "cell_type": "markdown",
   "metadata": {},
   "source": [
    "# Run Functions n times to gather performance data"
   ]
  },
  {
   "cell_type": "code",
   "execution_count": 17,
   "metadata": {},
   "outputs": [],
   "source": [
    "for_loop_times = []\n",
    "\n",
    "for _ in range(100):\n",
    "\n",
    "    start = time.perf_counter()\n",
    "\n",
    "    for_loop(100_000)\n",
    "\n",
    "    end = time.perf_counter()\n",
    "\n",
    "    for_loop_times.append(end-start)\n"
   ]
  },
  {
   "cell_type": "code",
   "execution_count": 18,
   "metadata": {},
   "outputs": [],
   "source": [
    "list_comprehension_times = []\n",
    "\n",
    "for _ in range(100):\n",
    "\n",
    "    start = time.perf_counter()\n",
    "\n",
    "    list_comprehension(100_000)\n",
    "\n",
    "    end = time.perf_counter()\n",
    "\n",
    "    list_comprehension_times.append(end-start)"
   ]
  },
  {
   "attachments": {},
   "cell_type": "markdown",
   "metadata": {},
   "source": [
    "# Define t-Test and run it"
   ]
  },
  {
   "cell_type": "code",
   "execution_count": 19,
   "metadata": {},
   "outputs": [],
   "source": [
    "def t_test(sample1: np.array, sample2: np.array) -> float:\n",
    "\n",
    "    mean1 = np.mean(sample1)\n",
    "    mean2 = np.mean(sample2)\n",
    "\n",
    "    n1 = len(sample1)\n",
    "    n2 = len(sample2)\n",
    "\n",
    "    std1 = np.std(sample1)\n",
    "    std2 = np.std(sample2)\n",
    "\n",
    "    std12 = np.sqrt( ((n1-1)*std1**2 + (n2-1)*std2**2) / (n1 + n2 - 2)  )\n",
    "\n",
    "    t = (mean1 - mean2) / (std12 * np.sqrt(1/n1 + 1/n2))\n",
    "\n",
    "    return t"
   ]
  },
  {
   "cell_type": "code",
   "execution_count": 20,
   "metadata": {},
   "outputs": [
    {
     "name": "stdout",
     "output_type": "stream",
     "text": [
      "t = 14.483\n",
      "(Check: Scipy says: t = 14.411)\n"
     ]
    }
   ],
   "source": [
    "t_value = t_test(for_loop_times, list_comprehension_times)\n",
    "print(f\"t = {t_value:.3f}\")\n",
    "\n",
    "print(f\"(Check: Scipy says: t = {stats.ttest_ind(for_loop_times, list_comprehension_times).statistic:.3f})\")"
   ]
  },
  {
   "attachments": {},
   "cell_type": "markdown",
   "metadata": {},
   "source": [
    "# Generate t-distribution from H0 and check alpha value"
   ]
  },
  {
   "cell_type": "code",
   "execution_count": 22,
   "metadata": {},
   "outputs": [
    {
     "name": "stdout",
     "output_type": "stream",
     "text": [
      "alpha value: 1.960\n",
      "Discard H0: True\n"
     ]
    },
    {
     "data": {
      "image/png": "[encoded data removed]",
      "text/plain": [
       "<Figure size 1200x700 with 1 Axes>"
      ]
     },
     "metadata": {},
     "output_type": "display_data"
    }
   ],
   "source": [
    "plt.figure(figsize=(12,7))\n",
    "\n",
    "random_mu = (np.random.random()-0.5)*20  # random float between -10 and 10 \n",
    "random_std = (np.random.random())*10  # random float between 0 and 10 \n",
    "\n",
    "a, b = np.random.normal(loc=random_mu, scale=random_std, size=(2, 1_000_000)) / (np.sqrt(2) * random_std)\n",
    "\n",
    "plt.hist(a-b, bins=200, alpha=0.5, color=\"blue\", density=True)\n",
    "\n",
    "plt.hist(np.random.standard_t(df=198, size=1_000_000), bins=200, alpha=0.5, color=\"red\", density=True)\n",
    "\n",
    "alpha_t = np.abs(np.percentile(a-b, 2.5))\n",
    "plt.axvline(-alpha_t, linestyle=\"dashed\", color=\"black\")\n",
    "plt.axvline(alpha_t, linestyle=\"dashed\", color=\"black\")\n",
    "\n",
    "print(f\"alpha value: {alpha_t:.3f}\")\n",
    "print(f\"Discard H0: {np.abs(t_value) > np.abs(alpha_t)}\")"
   ]
  },
  {
   "cell_type": "code",
   "execution_count": null,
   "metadata": {},
   "outputs": [],
   "source": []
  }
 ],
 "metadata": {
  "kernelspec": {
   "display_name": "celluloid",
   "language": "python",
   "name": "python3"
  },
  "language_info": {
   "codemirror_mode": {
    "name": "ipython",
    "version": 3
   },
   "file_extension": ".py",
   "mimetype": "text/x-python",
   "name": "python",
   "nbconvert_exporter": "python",
   "pygments_lexer": "ipython3",
   "version": "3.9.16"
  },
  "orig_nbformat": 4
 },
 "nbformat": 4,
 "nbformat_minor": 2
}
